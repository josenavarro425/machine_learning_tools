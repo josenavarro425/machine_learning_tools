{
 "cells": [
  {
   "cell_type": "markdown",
   "metadata": {
    "id": "6dJuZDx9qWeM"
   },
   "source": [
    "# 1.) Import an asset price from Yahoo Finance"
   ]
  },
  {
   "cell_type": "code",
   "execution_count": 10,
   "metadata": {
    "colab": {
     "base_uri": "https://localhost:8080/"
    },
    "id": "Y3bcwJb4rp93",
    "outputId": "6488930e-f8a4-4ecb-a3ce-cc73d755672d"
   },
   "outputs": [
    {
     "name": "stdout",
     "output_type": "stream",
     "text": [
      "[*********************100%***********************]  1 of 1 completed\n"
     ]
    }
   ],
   "source": [
    "import yfinance as yf\n",
    "import numpy as np\n",
    "import pandas as pd\n",
    "from sklearn.preprocessing import MinMaxScaler\n",
    "from tensorflow.keras.models import Sequential\n",
    "from tensorflow.keras.layers import Dense, LSTM, Dropout\n",
    "import matplotlib.pyplot as plt\n",
    "\n",
    "########################################\n",
    "####Pick your ticker and time period####\n",
    "########################################\n",
    "stock_data = yf.download(\"ESLOY\", start=\"1990-01-01\", end=\"2022-02-21\")\n",
    "\n",
    "\n",
    "\n",
    "# Preprocess data\n",
    "scaled_data = np.array(stock_data[\"Close\"].pct_change().dropna()).reshape(-1,1)\n",
    "\n",
    "\n",
    "# Split data into training and test sets\n",
    "training_data_len = int(len(scaled_data) * 0.8)\n",
    "train_data = scaled_data[0:training_data_len, :]\n"
   ]
  },
  {
   "cell_type": "code",
   "execution_count": 11,
   "metadata": {},
   "outputs": [
    {
     "data": {
      "text/html": [
       "<div>\n",
       "<style scoped>\n",
       "    .dataframe tbody tr th:only-of-type {\n",
       "        vertical-align: middle;\n",
       "    }\n",
       "\n",
       "    .dataframe tbody tr th {\n",
       "        vertical-align: top;\n",
       "    }\n",
       "\n",
       "    .dataframe thead th {\n",
       "        text-align: right;\n",
       "    }\n",
       "</style>\n",
       "<table border=\"1\" class=\"dataframe\">\n",
       "  <thead>\n",
       "    <tr style=\"text-align: right;\">\n",
       "      <th></th>\n",
       "      <th>Open</th>\n",
       "      <th>High</th>\n",
       "      <th>Low</th>\n",
       "      <th>Close</th>\n",
       "      <th>Adj Close</th>\n",
       "      <th>Volume</th>\n",
       "    </tr>\n",
       "    <tr>\n",
       "      <th>Date</th>\n",
       "      <th></th>\n",
       "      <th></th>\n",
       "      <th></th>\n",
       "      <th></th>\n",
       "      <th></th>\n",
       "      <th></th>\n",
       "    </tr>\n",
       "  </thead>\n",
       "  <tbody>\n",
       "    <tr>\n",
       "      <th>2008-01-30</th>\n",
       "      <td>28.850000</td>\n",
       "      <td>28.850000</td>\n",
       "      <td>28.850000</td>\n",
       "      <td>28.850000</td>\n",
       "      <td>23.665510</td>\n",
       "      <td>0</td>\n",
       "    </tr>\n",
       "    <tr>\n",
       "      <th>2008-01-31</th>\n",
       "      <td>28.740000</td>\n",
       "      <td>28.900000</td>\n",
       "      <td>28.250000</td>\n",
       "      <td>28.740000</td>\n",
       "      <td>23.575272</td>\n",
       "      <td>37400</td>\n",
       "    </tr>\n",
       "    <tr>\n",
       "      <th>2008-02-01</th>\n",
       "      <td>29.350000</td>\n",
       "      <td>29.400000</td>\n",
       "      <td>28.850000</td>\n",
       "      <td>29.350000</td>\n",
       "      <td>24.075653</td>\n",
       "      <td>41600</td>\n",
       "    </tr>\n",
       "    <tr>\n",
       "      <th>2008-02-04</th>\n",
       "      <td>28.600000</td>\n",
       "      <td>28.750000</td>\n",
       "      <td>28.600000</td>\n",
       "      <td>28.600000</td>\n",
       "      <td>23.460436</td>\n",
       "      <td>16400</td>\n",
       "    </tr>\n",
       "    <tr>\n",
       "      <th>2008-02-05</th>\n",
       "      <td>27.500000</td>\n",
       "      <td>28.500000</td>\n",
       "      <td>27.500000</td>\n",
       "      <td>27.500000</td>\n",
       "      <td>22.558109</td>\n",
       "      <td>19900</td>\n",
       "    </tr>\n",
       "    <tr>\n",
       "      <th>...</th>\n",
       "      <td>...</td>\n",
       "      <td>...</td>\n",
       "      <td>...</td>\n",
       "      <td>...</td>\n",
       "      <td>...</td>\n",
       "      <td>...</td>\n",
       "    </tr>\n",
       "    <tr>\n",
       "      <th>2022-02-14</th>\n",
       "      <td>92.209999</td>\n",
       "      <td>93.099998</td>\n",
       "      <td>91.639999</td>\n",
       "      <td>92.750000</td>\n",
       "      <td>91.200264</td>\n",
       "      <td>29400</td>\n",
       "    </tr>\n",
       "    <tr>\n",
       "      <th>2022-02-15</th>\n",
       "      <td>95.610001</td>\n",
       "      <td>96.720001</td>\n",
       "      <td>95.510002</td>\n",
       "      <td>96.410004</td>\n",
       "      <td>94.799118</td>\n",
       "      <td>41300</td>\n",
       "    </tr>\n",
       "    <tr>\n",
       "      <th>2022-02-16</th>\n",
       "      <td>95.720001</td>\n",
       "      <td>96.150002</td>\n",
       "      <td>95.029999</td>\n",
       "      <td>96.029999</td>\n",
       "      <td>94.425461</td>\n",
       "      <td>21600</td>\n",
       "    </tr>\n",
       "    <tr>\n",
       "      <th>2022-02-17</th>\n",
       "      <td>94.459999</td>\n",
       "      <td>94.500000</td>\n",
       "      <td>93.580002</td>\n",
       "      <td>93.980003</td>\n",
       "      <td>92.409714</td>\n",
       "      <td>64500</td>\n",
       "    </tr>\n",
       "    <tr>\n",
       "      <th>2022-02-18</th>\n",
       "      <td>95.220001</td>\n",
       "      <td>95.419998</td>\n",
       "      <td>94.190002</td>\n",
       "      <td>94.849998</td>\n",
       "      <td>93.265175</td>\n",
       "      <td>157300</td>\n",
       "    </tr>\n",
       "  </tbody>\n",
       "</table>\n",
       "<p>3541 rows × 6 columns</p>\n",
       "</div>"
      ],
      "text/plain": [
       "                 Open       High        Low      Close  Adj Close  Volume\n",
       "Date                                                                     \n",
       "2008-01-30  28.850000  28.850000  28.850000  28.850000  23.665510       0\n",
       "2008-01-31  28.740000  28.900000  28.250000  28.740000  23.575272   37400\n",
       "2008-02-01  29.350000  29.400000  28.850000  29.350000  24.075653   41600\n",
       "2008-02-04  28.600000  28.750000  28.600000  28.600000  23.460436   16400\n",
       "2008-02-05  27.500000  28.500000  27.500000  27.500000  22.558109   19900\n",
       "...               ...        ...        ...        ...        ...     ...\n",
       "2022-02-14  92.209999  93.099998  91.639999  92.750000  91.200264   29400\n",
       "2022-02-15  95.610001  96.720001  95.510002  96.410004  94.799118   41300\n",
       "2022-02-16  95.720001  96.150002  95.029999  96.029999  94.425461   21600\n",
       "2022-02-17  94.459999  94.500000  93.580002  93.980003  92.409714   64500\n",
       "2022-02-18  95.220001  95.419998  94.190002  94.849998  93.265175  157300\n",
       "\n",
       "[3541 rows x 6 columns]"
      ]
     },
     "execution_count": 11,
     "metadata": {},
     "output_type": "execute_result"
    }
   ],
   "source": [
    "stock_data"
   ]
  },
  {
   "cell_type": "markdown",
   "metadata": {
    "id": "foHoGy9hq3_o"
   },
   "source": [
    "# 2.) Create your x_train/y_train data so that your RNN uses percentage change data to make a binary forecast where the stock moves up or down the next day\n",
    "# Build an RNN Architecture accordingly"
   ]
  },
  {
   "cell_type": "code",
   "execution_count": 12,
   "metadata": {
    "id": "5qGFB5HfqcVd"
   },
   "outputs": [
    {
     "name": "stdout",
     "output_type": "stream",
     "text": [
      "Epoch 1/3\n",
      "2827/2827 [==============================] - 9s 2ms/step - loss: 8.0699\n",
      "Epoch 2/3\n",
      "2827/2827 [==============================] - 6s 2ms/step - loss: 8.0699\n",
      "Epoch 3/3\n",
      "2827/2827 [==============================] - 6s 2ms/step - loss: 8.0699\n"
     ]
    },
    {
     "data": {
      "text/plain": [
       "<keras.callbacks.History at 0x2f5df9ea8c8>"
      ]
     },
     "execution_count": 12,
     "metadata": {},
     "output_type": "execute_result"
    }
   ],
   "source": [
    "x_train = []\n",
    "y_train = []\n",
    "\n",
    "\n",
    "#############################################################\n",
    "####Pick your input size and edit to make binary forecast####\n",
    "#############################################################\n",
    "input_size = 5\n",
    "for i in range(input_size, len(train_data)):\n",
    "    x_train.append(train_data[i-input_size:i, 0])\n",
    "    if train_data[i, 0] > 0:\n",
    "        y_train.append(1)\n",
    "    else:\n",
    "        y_train.append(0)\n",
    "\n",
    "x_train, y_train = np.array(x_train), np.array(y_train)\n",
    "x_train = np.reshape(x_train, (x_train.shape[0], x_train.shape[1], 1))\n",
    "\n",
    "###################################\n",
    "####Build Your RNN Architecture####\n",
    "###################################\n",
    "model = Sequential()\n",
    "model.add(LSTM(x_train.shape[1], return_sequences=True, input_shape=(x_train.shape[1], 1)))\n",
    "model.add(LSTM(50, return_sequences=False))\n",
    "model.add(Dense(1)) \n",
    "\n",
    "\n",
    "#Examples\n",
    "#model.add(LSTM(50, return_sequences=False))\n",
    "#model.add(Dense(25))\n",
    "\n",
    "\n",
    "\n",
    "model.compile(optimizer='adam', loss='binary_crossentropy')\n",
    "model.fit(x_train, y_train, batch_size=1, epochs=3)"
   ]
  },
  {
   "cell_type": "markdown",
   "metadata": {
    "id": "yFhO9vMjsWPk"
   },
   "source": [
    "# 3.) Test your model and compare insample Accurracy, insample random walk assumption Accuracy, Out of sample Accuracy and out of sample random walk assumption Accuracy using a bar chart"
   ]
  },
  {
   "cell_type": "code",
   "execution_count": 16,
   "metadata": {
    "id": "r1Xj6Ji-rwnM"
   },
   "outputs": [
    {
     "name": "stdout",
     "output_type": "stream",
     "text": [
      "89/89 [==============================] - 0s 1ms/step\n",
      "23/23 [==============================] - 0s 1ms/step\n"
     ]
    }
   ],
   "source": [
    "train_data = scaled_data[:training_data_len, :]\n",
    "\n",
    "x_train = []\n",
    "y_train = np.array(stock_data[[\"Close\"]].pct_change().dropna())[:training_data_len, :]\n",
    "for i in range(input_size, len(train_data) - (input_size - 1)):\n",
    "    x_train.append(train_data[i-input_size:i, 0])\n",
    "\n",
    "x_train = np.array(x_train)\n",
    "x_train = np.reshape(x_train, (x_train.shape[0], x_train.shape[1], 1))\n",
    "\n",
    "y_train = y_train[input_size-1:len(x_train)+input_size-1]\n",
    "\n",
    "in_predictions = model.predict(x_train)\n",
    "\n",
    "test_data = scaled_data[training_data_len - input_size:, :]\n",
    "\n",
    "x_test = []\n",
    "y_test = np.array(stock_data[[\"Close\"]].pct_change().dropna())[training_data_len:, :]\n",
    "for i in range(input_size, len(test_data)):\n",
    "    x_test.append(test_data[i-input_size:i, 0])\n",
    "\n",
    "x_test = np.array(x_test)\n",
    "x_test = np.reshape(x_test, (x_test.shape[0], x_test.shape[1], 1))\n",
    "\n",
    "out_predictions = model.predict(x_test)\n",
    "\n",
    "#Calculate RMSE\n",
    "in_sample_rmse = np.sqrt(np.mean((y_train - in_predictions)**2))\n",
    "in_sample_rw_rmse = np.sqrt(np.mean((y_train[1:] - y_train[:-1])**2))\n",
    "\n",
    "out_sample_rmse = np.sqrt(np.mean((y_test - out_predictions)**2))\n",
    "out_sample_rw_rmse = np.sqrt(np.mean((y_test[1:] - y_test[:-1])**2))"
   ]
  },
  {
   "cell_type": "code",
   "execution_count": 18,
   "metadata": {},
   "outputs": [
    {
     "data": {
      "image/png": "[encoded data removed]",
      "text/plain": [
       "<Figure size 1080x432 with 1 Axes>"
      ]
     },
     "metadata": {
      "needs_background": "light"
     },
     "output_type": "display_data"
    }
   ],
   "source": [
    "import matplotlib.pyplot as plt\n",
    "\n",
    "accuracy_scores = [in_sample_rmse, in_sample_rw_rmse, out_sample_rmse, out_sample_rw_rmse]\n",
    "labels = ['In-Sample RMSE', 'In-Sample RW RMSE', 'Out-of-Sample RMSE', 'Out-of-Sample RW RMSE']\n",
    "colors = ['r', 'r', 'b', 'b']\n",
    "\n",
    "fig, ax = plt.subplots(figsize = (15,6))\n",
    "ax.bar(labels, accuracy_scores, color=colors)\n",
    "for i, m in enumerate(accuracy_scores):\n",
    "    ax.text(i, m, str(m), ha='center', va='bottom')\n",
    "ax.set_ylabel('RMSE')\n",
    "plt.show()"
   ]
  },
  {
   "cell_type": "code",
   "execution_count": 7,
   "metadata": {
    "id": "jVPe8djTn1_2"
   },
   "outputs": [],
   "source": []
  },
  {
   "cell_type": "code",
   "execution_count": 7,
   "metadata": {
    "id": "QCY8DfMEtUln"
   },
   "outputs": [],
   "source": []
  },
  {
   "cell_type": "markdown",
   "metadata": {
    "id": "bK_jyyEEtTUB"
   },
   "source": [
    "# 5.) Write an observation/conclusion about the graphs from Q4 and Q3"
   ]
  },
  {
   "cell_type": "markdown",
   "metadata": {
    "id": "N5fbjajz-YCF"
   },
   "source": [
    "The model we used to predict the stock price did not perform a random walk."
   ]
  },
  {
   "cell_type": "markdown",
   "metadata": {
    "id": "pFtrp-lmtw6t"
   },
   "source": [
    "# 6.) Create a parameter for number of lags in your input layer. Do a 3-fold CV to test three different time lags. i.e. Tested using 5,10,20 days of previous price data to forecast"
   ]
  },
  {
   "cell_type": "code",
   "execution_count": 19,
   "metadata": {},
   "outputs": [],
   "source": [
    "from sklearn.model_selection import GridSearchCV\n",
    "from keras.wrappers.scikit_learn import KerasClassifier\n",
    "from keras.wrappers.scikit_learn import KerasRegressor"
   ]
  },
  {
   "cell_type": "code",
   "execution_count": 20,
   "metadata": {
    "colab": {
     "base_uri": "https://localhost:8080/"
    },
    "id": "kEOQ6TO0-Fnw",
    "outputId": "2f87315c-c4c1-404c-ab40-3654f0c73582"
   },
   "outputs": [
    {
     "name": "stderr",
     "output_type": "stream",
     "text": [
      "E:\\anaconda_download\\lib\\site-packages\\ipykernel_launcher.py:13: DeprecationWarning: KerasRegressor is deprecated, use Sci-Keras (https://github.com/adriangb/scikeras) instead. See https://www.adriangb.com/scikeras/stable/migration.html for help migrating.\n",
      "  del sys.path[0]\n"
     ]
    },
    {
     "name": "stdout",
     "output_type": "stream",
     "text": [
      "Best: -0.003756 using {'neurons': 50}\n"
     ]
    }
   ],
   "source": [
    "# Define the Keras model\n",
    "###Edit here to create your optimizer\n",
    "def create_model(neurons):  #JEN add a parameter\n",
    "    model = Sequential()\n",
    "    #model.add(Dense(neurons, input_dim=60, activation='LTSM'))\n",
    "    model.add(LSTM(50, return_sequences=False))\n",
    "    model.add(Dense(neurons,input_dim=60, ))\n",
    "    model.add(Dense(1, activation='sigmoid'))\n",
    "    model.compile(loss='binary_crossentropy', optimizer='adam', metrics=['accuracy'])\n",
    "    return(model)\n",
    "\n",
    "# Wrap the Keras model in a scikit-learn compatible estimator\n",
    "model = KerasRegressor(build_fn=create_model, verbose=0)\n",
    "\n",
    "# Define the hyperparameters to search over\n",
    "####EXAMPLE###\n",
    "param_grid = {#'batch_size': [10, 15, 20],\n",
    "              #'epochs': [1],\n",
    "              'neurons':[5,50,100]\n",
    "            }\n",
    "\n",
    "# Perform the grid search over the hyperparameters\n",
    "\n",
    "grid = GridSearchCV(estimator=model, param_grid=param_grid, n_jobs=-1, cv=3)\n",
    "grid_result = grid.fit(x_train, y_train)\n",
    "\n",
    "# Print the results\n",
    "print(\"Best: %f using %s\" % (grid_result.best_score_, grid_result.best_params_))"
   ]
  },
  {
   "cell_type": "code",
   "execution_count": null,
   "metadata": {},
   "outputs": [],
   "source": []
  },
  {
   "cell_type": "code",
   "execution_count": null,
   "metadata": {
    "id": "QA_gAupmA_8E"
   },
   "outputs": [],
   "source": []
  },
  {
   "cell_type": "code",
   "execution_count": null,
   "metadata": {
    "id": "vfH6js5EB2wu"
   },
   "outputs": [],
   "source": []
  }
 ],
 "metadata": {
  "colab": {
   "provenance": []
  },
  "kernelspec": {
   "display_name": "Python 3 (ipykernel)",
   "language": "python",
   "name": "python3"
  },
  "language_info": {
   "codemirror_mode": {
    "name": "ipython",
    "version": 3
   },
   "file_extension": ".py",
   "mimetype": "text/x-python",
   "name": "python",
   "nbconvert_exporter": "python",
   "pygments_lexer": "ipython3",
   "version": "3.7.13"
  }
 },
 "nbformat": 4,
 "nbformat_minor": 1
}
